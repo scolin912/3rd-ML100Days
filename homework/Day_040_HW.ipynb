{
 "cells": [
  {
   "cell_type": "markdown",
   "metadata": {},
   "source": [
    "[作業重點]\n",
    "使用 Sklearn 中的 Lasso, Ridge 模型，來訓練各種資料集，務必了解送進去模型訓練的資料型態為何，也請了解模型中各項參數的意義。\n",
    "\n",
    "機器學習的模型非常多種，但要訓練的資料多半有固定的格式，確保你了解訓練資料的格式為何，這樣在應用新模型時，就能夠最快的上手開始訓練！\n",
    "\n",
    "練習時間\n",
    "試著使用 sklearn datasets 的其他資料集 (boston, ...)，來訓練自己的線性迴歸模型，並加上適當的正則化來觀察訓練情形。"
   ]
  },
  {
   "cell_type": "code",
   "execution_count": 2,
   "metadata": {},
   "outputs": [],
   "source": [
    "import numpy as np\n",
    "import matplotlib.pyplot as plt\n",
    "from sklearn import datasets, linear_model\n",
    "from sklearn.model_selection import train_test_split\n",
    "from sklearn.metrics import mean_squared_error, r2_score\n",
    "from sklearn.model_selection import cross_val_score"
   ]
  },
  {
   "cell_type": "code",
   "execution_count": 11,
   "metadata": {},
   "outputs": [],
   "source": [
    "# 讀取 boston 資料集 - ridge\n",
    "boston = datasets.load_boston()\n",
    "\n",
    "# train test split - 切分訓練集/測試集\n",
    "x_train, x_test, y_train, y_test = train_test_split(X, y, test_size = 0.3, random_state = 87)\n",
    "\n",
    "# 建立一個線性回歸模型\n",
    "regr = linear_model.LinearRegression()\n",
    "\n",
    "# 將訓練資料丟進去模型訓練\n",
    "regr.fit(x_train, y_train)\n",
    "\n",
    "# 將測試資料丟進模型得到預測結果\n",
    "y_pred = regr.predict(x_test)"
   ]
  },
  {
   "cell_type": "code",
   "execution_count": 12,
   "metadata": {},
   "outputs": [
    {
     "name": "stdout",
     "output_type": "stream",
     "text": [
      "\n",
      " c.v. score : 0.6796744375539981\n",
      "\n",
      "[-1.39098133e-01  3.97316638e-02  1.56281579e-02  2.23420723e+00\n",
      " -1.73650287e+01  3.81367677e+00  4.13297395e-06 -1.32562522e+00\n",
      "  3.00934394e-01 -1.04274363e-02 -9.69146963e-01  8.59336770e-03\n",
      " -5.28261221e-01]\n",
      "MSE : 26.57\n"
     ]
    }
   ],
   "source": [
    "# model - 建立一個線性回歸模型 - LinearRegression\n",
    "reg = linear_model.LinearRegression()\n",
    "\n",
    "# fit (train model) - 將訓練資料丟進去模型訓練\n",
    "reg.fit(X_train, y_train)\n",
    "# cross validation\n",
    "print(f'\\n c.v. score : {cross_val_score(reg, X_train, y_train, cv=5).mean()}\\n')\n",
    "\n",
    "# predict - 將測試資料丟進模型得到預測結果\n",
    "y_pred = reg.predict(X_test)\n",
    "\n",
    "\n",
    "print(reg.coef_)\n",
    "\n",
    "# evaluation - 預測值與實際值的差距，使用 MSE\n",
    "mse = mean_squared_error(y_test, y_pred)\n",
    "print(\"MSE : %.2f\" % mse)"
   ]
  },
  {
   "cell_type": "code",
   "execution_count": 13,
   "metadata": {},
   "outputs": [
    {
     "name": "stdout",
     "output_type": "stream",
     "text": [
      "\n",
      " c.v. score : 0.679859678061506\n",
      "\n",
      "[-1.38867043e-01  3.97653707e-02  1.42925929e-02  2.21642968e+00\n",
      " -1.70477891e+01  3.81471723e+00 -2.46258642e-04 -1.32093461e+00\n",
      "  3.00137218e-01 -1.04560694e-02 -9.65564144e-01  8.62094784e-03\n",
      " -5.28675787e-01]\n",
      "MSE : 26.58\n"
     ]
    }
   ],
   "source": [
    "# model - 建立一個線性回歸模型 - Lasso\n",
    "lasso = linear_model.Lasso(alpha=0.001)\n",
    "\n",
    "# fit (train model) - 將訓練資料丟進去模型訓練\n",
    "lasso.fit(X_train, y_train)\n",
    "# cross validation\n",
    "print(f'\\n c.v. score : {cross_val_score(lasso, X_train, y_train, cv=5).mean()}\\n')\n",
    "\n",
    "# predict - 將測試資料丟進模型得到預測結果\n",
    "y_pred = lasso.predict(X_test)\n",
    "\n",
    "\n",
    "print(lasso.coef_)\n",
    "\n",
    "# evaluation - 預測值與實際值的差距，使用 MSE\n",
    "mse = mean_squared_error(y_test, y_pred)\n",
    "print(\"MSE : %.2f\" % mse)"
   ]
  },
  {
   "cell_type": "code",
   "execution_count": 14,
   "metadata": {},
   "outputs": [
    {
     "name": "stdout",
     "output_type": "stream",
     "text": [
      "\n",
      " c.v. score : 0.67972737145291\n",
      "\n",
      "[-1.38990807e-01  3.97489489e-02  1.49915639e-02  2.23189097e+00\n",
      " -1.72149884e+01  3.81515912e+00 -1.37906718e-04 -1.32355812e+00\n",
      "  3.00537430e-01 -1.04400411e-02 -9.67402512e-01  8.60619254e-03\n",
      " -5.28363616e-01]\n",
      "MSE : 26.57\n"
     ]
    }
   ],
   "source": [
    "# model - 建立一個線性回歸模型 - Ridge\n",
    "ridge = linear_model.Ridge(alpha=0.01)\n",
    "\n",
    "# fit (train model) - 將訓練資料丟進去模型訓練\n",
    "ridge.fit(X_train, y_train)\n",
    "# cross validation\n",
    "print(f'\\n c.v. score : {cross_val_score(ridge, X_train, y_train, cv=5).mean()}\\n')\n",
    "\n",
    "# predict - 將測試資料丟進模型得到預測結果\n",
    "y_pred = ridge.predict(X_test)\n",
    "\n",
    "\n",
    "print(ridge.coef_)\n",
    "\n",
    "# evaluation - 預測值與實際值的差距，使用 MSE\n",
    "mse = mean_squared_error(y_test, y_pred)\n",
    "print(\"MSE : %.2f\" % mse)"
   ]
  },
  {
   "cell_type": "code",
   "execution_count": null,
   "metadata": {},
   "outputs": [],
   "source": []
  }
 ],
 "metadata": {
  "kernelspec": {
   "display_name": "Python 3",
   "language": "python",
   "name": "python3"
  },
  "language_info": {
   "codemirror_mode": {
    "name": "ipython",
    "version": 3
   },
   "file_extension": ".py",
   "mimetype": "text/x-python",
   "name": "python",
   "nbconvert_exporter": "python",
   "pygments_lexer": "ipython3",
   "version": "3.7.3"
  }
 },
 "nbformat": 4,
 "nbformat_minor": 2
}
