{
 "cells": [
  {
   "cell_type": "markdown",
   "metadata": {},
   "source": [
    "[作業目標]\n",
    "持續接觸有關機器學習的相關專案與最新技術\n",
    "\n",
    "[作業重點]\n",
    "透過觀察頂尖公司的機器學習文章，來了解各公司是怎麼應用機器學習在實際的專案上"
   ]
  },
  {
   "cell_type": "markdown",
   "metadata": {},
   "source": [
    "[作業]\n",
    "\n",
    "專案的目標？ \n",
    "\n",
    "Answer: 為醫師提供病理分析，例如幫助檢測糖尿病眼病和轉移性乳腺癌\n",
    "\n",
    "使用的技術是？ \n",
    "\n",
    "Answer: 圖像檢索系統CBIR(Content-based image retrieval)是計算機視覺領域的一個分支\n",
    "\n",
    "其根據大規模的數字圖像內容，在已有的圖像數據集中查找到具有相同或者相似內容的圖片\n",
    "\n",
    "資料來源？\n",
    "\n",
    "Answer: Google AI blog, Google Health and Carrie J. Cai, Research Scientist, Google Research"
   ]
  }
 ],
 "metadata": {
  "kernelspec": {
   "display_name": "Python 3",
   "language": "python",
   "name": "python3"
  },
  "language_info": {
   "codemirror_mode": {
    "name": "ipython",
    "version": 3
   },
   "file_extension": ".py",
   "mimetype": "text/x-python",
   "name": "python",
   "nbconvert_exporter": "python",
   "pygments_lexer": "ipython3",
   "version": "3.7.3"
  }
 },
 "nbformat": 4,
 "nbformat_minor": 2
}
