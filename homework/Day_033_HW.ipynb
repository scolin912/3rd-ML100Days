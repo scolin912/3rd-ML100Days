{
 "cells": [
  {
   "cell_type": "markdown",
   "metadata": {},
   "source": [
    "練習時間\n",
    "\n",
    "請觀看李宏毅教授以神奇寶貝進化 CP 值預測的範例，解說何謂機器學習與過擬合。並回答以下問題\n",
    "\n",
    "youtube\n",
    "\n",
    "1. 模型的泛化能力 (generalization) 是指什麼？"
   ]
  },
  {
   "cell_type": "markdown",
   "metadata": {},
   "source": [
    "泛化能力(generalization ability)是指機器學習演算法對新鮮樣本的適應能力, 不只有在training data表現良好，卻在testing data上overfitting"
   ]
  },
  {
   "cell_type": "markdown",
   "metadata": {},
   "source": [
    "2. 分類問題與回歸問題分別可用的目標函數有哪些？"
   ]
  },
  {
   "cell_type": "markdown",
   "metadata": {},
   "source": [
    "回歸問題:\n",
    "MSE : 均方誤差（ L2 損失函數 ）\n",
    "MAE : 平均絕對值誤差（ L1 損失函數 ）\n",
    "Huber 損失函數（ 平滑的平均絕對誤差 ）\n",
    "Log-Cosh 損失函數\n",
    "分類問題:\n",
    "錯誤率\n",
    "交叉熵損失函數 softmax\n",
    "合頁損失函數\n",
    "\n",
    "指數損失函數\n",
    "\n",
    "對比損失函數"
   ]
  }
 ],
 "metadata": {
  "kernelspec": {
   "display_name": "Python 3",
   "language": "python",
   "name": "python3"
  },
  "language_info": {
   "codemirror_mode": {
    "name": "ipython",
    "version": 3
   },
   "file_extension": ".py",
   "mimetype": "text/x-python",
   "name": "python",
   "nbconvert_exporter": "python",
   "pygments_lexer": "ipython3",
   "version": "3.7.3"
  }
 },
 "nbformat": 4,
 "nbformat_minor": 2
}
