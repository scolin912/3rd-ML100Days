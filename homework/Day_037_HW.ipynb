{
 "cells": [
  {
   "cell_type": "markdown",
   "metadata": {},
   "source": [
    "[作業重點]\n",
    "了解線性回歸的模型發展歷程，並了解優勢與劣勢，以及其使用情境\n",
    "\n",
    "作業\n",
    "\n",
    "請閱讀以下相關文獻，並回答以下問題\n",
    "Linear Regression 詳細介紹\n",
    "Logistics Regression 詳細介紹\n",
    "\n",
    "線性回歸模型能夠準確預測非線性關係的資料集嗎?\n",
    "回歸模型是否對資料分布有基本假設?"
   ]
  },
  {
   "cell_type": "code",
   "execution_count": null,
   "metadata": {},
   "outputs": [],
   "source": [
    "1. 不行\n",
    "2. 有基本假設，邏輯斯回歸應用於分類模型，線性回歸則適合一次方程"
   ]
  }
 ],
 "metadata": {
  "kernelspec": {
   "display_name": "Python 3",
   "language": "python",
   "name": "python3"
  },
  "language_info": {
   "codemirror_mode": {
    "name": "ipython",
    "version": 3
   },
   "file_extension": ".py",
   "mimetype": "text/x-python",
   "name": "python",
   "nbconvert_exporter": "python",
   "pygments_lexer": "ipython3",
   "version": "3.7.3"
  }
 },
 "nbformat": 4,
 "nbformat_minor": 2
}
