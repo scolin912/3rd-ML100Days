{
 "cells": [
  {
   "cell_type": "markdown",
   "metadata": {},
   "source": [
    "[作業目標]\n",
    "了解機器學習適合應用的領域與範疇。\n",
    "\n",
    "[作業重點]\n",
    "透過瞭解機器學習的運作方式，找出非常適用機器學習應用的領域及其原因\n",
    "\n",
    "作業\n",
    "請找出一個你認為機器學習可以發光發熱的領域並闡述原因?"
   ]
  },
  {
   "cell_type": "code",
   "execution_count": null,
   "metadata": {},
   "outputs": [],
   "source": [
    "機器學習於醫療保健領域具有巨大的潛力\n",
    "\n",
    "由圖像識別資料庫，可讓機器學習外觀、姿勢進而判定跌倒或需要幫助\n",
    "\n",
    "資料量夠大得以檢測癌症以及協助醫生和病人互動\n",
    "\n",
    "以及利用機器學習解決基因組學中的各種問題，訓練機器判讀出目標\n",
    "\n",
    "機器學習與人工智慧還能主動提供洞見，取代過去搜尋檢索的資訊取得方式"
   ]
  }
 ],
 "metadata": {
  "kernelspec": {
   "display_name": "Python 3",
   "language": "python",
   "name": "python3"
  },
  "language_info": {
   "codemirror_mode": {
    "name": "ipython",
    "version": 3
   },
   "file_extension": ".py",
   "mimetype": "text/x-python",
   "name": "python",
   "nbconvert_exporter": "python",
   "pygments_lexer": "ipython3",
   "version": "3.7.3"
  }
 },
 "nbformat": 4,
 "nbformat_minor": 2
}
